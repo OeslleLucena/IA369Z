{
 "cells": [
  {
   "cell_type": "markdown",
   "metadata": {
    "deletable": true,
    "editable": true
   },
   "source": [
    "## 3D Brain Segmentation Using 2D Fully Convolutional Neural Networks\n",
    "\n",
    "##  Objectives\n",
    "\n",
    "The goal of our experiments is to perform the brain extraction, also known as skull-stripping, using a 2D U-Shape fully convolutional neural network (CNN), which we chose the U-NET architecture. \n",
    "\n",
    "\n",
    "## Workflow\n",
    "\n",
    "<img src=\"../figures/WorkflowRepPaper_2r.png\" />\n",
    "\n",
    "## Data\n",
    "\n",
    "The dataset used is the CC-359 which  consists of T1 volumes acquired in 359 subjects on scanners from three different vendors (GE, Philips, and Siemens) and at two magnetic field strengths (1.5 T and 3 T). The dataset has twelve volumes with manual segmentations that will be used to evaluate the proposed method.\n",
    "\n",
    "## Tools\n",
    "\n",
    "In this project, we basically use python to code and ITK-SNAP to see the 3D volume.\n",
    "\n",
    "## Libraries\n",
    "\n",
    "NumPy, Scikit-Learn, Matplotlib, Keras\n",
    "\n",
    "## References\n",
    "\n",
    "[1] Kleesiek, J. et al. NeuroImage, 129:460–469, 2016. [2] Warfield, S. K. et al. IEEE Tran. on Med. Imaging, 23(7):903–921, 2004. [3] Ronneberger, O. et al, MICCAI, Springer, 9351: 234-241, 2015."
   ]
  },
  {
   "cell_type": "code",
   "execution_count": null,
   "metadata": {
    "collapsed": true
   },
   "outputs": [],
   "source": []
  }
 ],
 "metadata": {
  "anaconda-cloud": {},
  "kernelspec": {
   "display_name": "Python 2",
   "language": "python",
   "name": "python2"
  },
  "language_info": {
   "codemirror_mode": {
    "name": "ipython",
    "version": 2
   },
   "file_extension": ".py",
   "mimetype": "text/x-python",
   "name": "python",
   "nbconvert_exporter": "python",
   "pygments_lexer": "ipython2",
   "version": "2.7.12"
  }
 },
 "nbformat": 4,
 "nbformat_minor": 0
}
